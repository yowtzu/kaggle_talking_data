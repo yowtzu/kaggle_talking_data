{
 "cells": [
  {
   "cell_type": "code",
   "execution_count": 1,
   "metadata": {
    "collapsed": false
   },
   "outputs": [
    {
     "name": "stderr",
     "output_type": "stream",
     "text": [
      "/Users/yowtzu/anaconda/lib/python3.5/site-packages/pandas/computation/__init__.py:19: UserWarning: The installed version of numexpr 2.4.4 is not supported in pandas and will be not be used\n",
      "\n",
      "  UserWarning)\n",
      "/Users/yowtzu/anaconda/lib/python3.5/site-packages/sklearn/utils/fixes.py:64: DeprecationWarning: inspect.getargspec() is deprecated, use inspect.signature() instead\n",
      "  if 'order' in inspect.getargspec(np.copy)[0]:\n"
     ]
    }
   ],
   "source": [
    "%matplotlib inline\n",
    "import pandas as pd\n",
    "import numpy as np\n",
    "import seaborn as sns\n",
    "import matplotlib.pyplot as plt\n",
    "import matplotlib.cm as cm\n",
    "import os\n",
    "from sklearn.preprocessing import LabelEncoder\n",
    "from sklearn.cross_validation import KFold\n",
    "from sklearn.metrics import log_loss"
   ]
  },
  {
   "cell_type": "code",
   "execution_count": 3,
   "metadata": {
    "collapsed": false
   },
   "outputs": [
    {
     "data": {
      "text/html": [
       "<div>\n",
       "<table border=\"1\" class=\"dataframe\">\n",
       "  <thead>\n",
       "    <tr style=\"text-align: right;\">\n",
       "      <th></th>\n",
       "      <th>device_id</th>\n",
       "      <th>gender</th>\n",
       "      <th>age</th>\n",
       "      <th>group</th>\n",
       "    </tr>\n",
       "  </thead>\n",
       "  <tbody>\n",
       "    <tr>\n",
       "      <th>0</th>\n",
       "      <td>-8076087639492063270</td>\n",
       "      <td>M</td>\n",
       "      <td>35</td>\n",
       "      <td>M32-38</td>\n",
       "    </tr>\n",
       "    <tr>\n",
       "      <th>1</th>\n",
       "      <td>-2897161552818060146</td>\n",
       "      <td>M</td>\n",
       "      <td>35</td>\n",
       "      <td>M32-38</td>\n",
       "    </tr>\n",
       "    <tr>\n",
       "      <th>2</th>\n",
       "      <td>-8260683887967679142</td>\n",
       "      <td>M</td>\n",
       "      <td>35</td>\n",
       "      <td>M32-38</td>\n",
       "    </tr>\n",
       "  </tbody>\n",
       "</table>\n",
       "</div>"
      ],
      "text/plain": [
       "             device_id gender  age   group\n",
       "0 -8076087639492063270      M   35  M32-38\n",
       "1 -2897161552818060146      M   35  M32-38\n",
       "2 -8260683887967679142      M   35  M32-38"
      ]
     },
     "execution_count": 3,
     "metadata": {},
     "output_type": "execute_result"
    }
   ],
   "source": [
    "gatrain = pd.read_csv('data/gender_age_train.csv')\n",
    "gatest = pd.read_csv('data/gender_age_test.csv')\n",
    "gatrain.head(3)"
   ]
  },
  {
   "cell_type": "code",
   "execution_count": 26,
   "metadata": {
    "collapsed": false
   },
   "outputs": [
    {
     "data": {
      "text/plain": [
       "<matplotlib.axes._subplots.AxesSubplot at 0x10b14f6a0>"
      ]
     },
     "execution_count": 26,
     "metadata": {},
     "output_type": "execute_result"
    },
    {
     "data": {
      "image/png": "[encoded data removed]",
      "text/plain": [
       "<matplotlib.figure.Figure at 0x10b11de48>"
      ]
     },
     "metadata": {},
     "output_type": "display_data"
    }
   ],
   "source": [
    "gatrain.gender.value_counts().plot(kind='barh')"
   ]
  },
  {
   "cell_type": "code",
   "execution_count": 21,
   "metadata": {
    "collapsed": false
   },
   "outputs": [
    {
     "data": {
      "text/plain": [
       "<matplotlib.axes._subplots.AxesSubplot at 0x10aaccbe0>"
      ]
     },
     "execution_count": 21,
     "metadata": {},
     "output_type": "execute_result"
    },
    {
     "data": {
      "image/png": "[encoded data removed]",
      "text/plain": [
       "<matplotlib.figure.Figure at 0x10aad7940>"
      ]
     },
     "metadata": {},
     "output_type": "display_data"
    }
   ],
   "source": [
    "gatrain.group.value_counts().sort_index(ascending=False).plot(kind='barh')"
   ]
  },
  {
   "cell_type": "code",
   "execution_count": 51,
   "metadata": {
    "collapsed": true
   },
   "outputs": [],
   "source": [
    "gatrain.age.quantile?"
   ]
  },
  {
   "cell_type": "code",
   "execution_count": 75,
   "metadata": {
    "collapsed": false
   },
   "outputs": [],
   "source": [
    "gam = gatrain[gatrain.gender=='M']\n",
    "gaf = gatrain[gatrain.gender=='F']"
   ]
  },
  {
   "cell_type": "code",
   "execution_count": null,
   "metadata": {
    "collapsed": true
   },
   "outputs": [],
   "source": [
    "print(gam.age[(gam.age>=0) & (gam.age<23)].count())\n",
    "print(gam.age[(gam.age>=23) & (gam.age<27)].count())\n",
    "print(gam.age[(gam.age>=27) & (gam.age<29)].count())\n",
    "print(gam.age[(gam.age>=29) & (gam.age<32)].count())\n",
    "print(gam.age[(gam.age>=32) & (gam.age<39)].count())\n",
    "print(gam.age[gam.age>=39].count())"
   ]
  },
  {
   "cell_type": "code",
   "execution_count": 97,
   "metadata": {
    "collapsed": false
   },
   "outputs": [
    {
     "name": "stdout",
     "output_type": "stream",
     "text": [
      "7488\n",
      "9605\n",
      "5445\n",
      "7309\n",
      "9476\n",
      "8581\n"
     ]
    }
   ],
   "source": [
    "print(gam.age[(gam.age>=0) & (gam.age<23)].count())\n",
    "print(gam.age[(gam.age>=23) & (gam.age<27)].count())\n",
    "print(gam.age[(gam.age>=27) & (gam.age<29)].count())\n",
    "print(gam.age[(gam.age>=29) & (gam.age<32)].count())\n",
    "print(gam.age[(gam.age>=32) & (gam.age<39)].count())\n",
    "print(gam.age[gam.age>=39].count())"
   ]
  },
  {
   "cell_type": "code",
   "execution_count": null,
   "metadata": {
    "collapsed": true
   },
   "outputs": [],
   "source": []
  },
  {
   "cell_type": "code",
   "execution_count": null,
   "metadata": {
    "collapsed": true
   },
   "outputs": [],
   "source": [
    "gatrain[gatrain.gender=='F'].age.quantile"
   ]
  },
  {
   "cell_type": "code",
   "execution_count": 39,
   "metadata": {
    "collapsed": false
   },
   "outputs": [
    {
     "data": {
      "text/plain": [
       "<matplotlib.collections.LineCollection at 0x10cd94eb8>"
      ]
     },
     "execution_count": 39,
     "metadata": {},
     "output_type": "execute_result"
    },
    {
     "name": "stderr",
     "output_type": "stream",
     "text": [
      "/Users/yowtzu/anaconda/lib/python3.5/site-packages/matplotlib/collections.py:590: FutureWarning: elementwise comparison failed; returning scalar instead, but in the future will perform elementwise comparison\n",
      "  if self._edgecolors == str('face'):\n"
     ]
    },
    {
     "data": {
      "image/png": "[encoded data removed]",
      "text/plain": [
       "<matplotlib.figure.Figure at 0x10d014748>"
      ]
     },
     "metadata": {},
     "output_type": "display_data"
    }
   ],
   "source": [
    "c = gatrain.groupby(['age', 'gender']).size().unstack().reindex(index=np.arange(96)).fillna(0)\n",
    "\n",
    "ax1, ax2 = c.plot(kind='bar', figsize=(12,6), subplots=True)\n",
    "ax1.vlines(np.array([23,26,28,32,42])-0.5,0,1800,alpha=0.5,linewidth=1,color='r')\n",
    "ax2.vlines(np.array([22,26,28,31,38])-0.5,0,3000,alpha=0.5,linewidth=1,color='r')"
   ]
  },
  {
   "cell_type": "markdown",
   "metadata": {},
   "source": [
    "### Benchmark 1/n classes"
   ]
  },
  {
   "cell_type": "code",
   "execution_count": 115,
   "metadata": {
    "collapsed": true
   },
   "outputs": [],
   "source": [
    "letarget = LabelEncoder().fit(gatrain.group.values)\n",
    "y = letarget.transform(gatrain.group.values)\n",
    "n_classes = len(letarget.classes_)"
   ]
  },
  {
   "cell_type": "code",
   "execution_count": 116,
   "metadata": {
    "collapsed": false
   },
   "outputs": [
    {
     "data": {
      "text/plain": [
       "2.4849066497880012"
      ]
     },
     "execution_count": 116,
     "metadata": {},
     "output_type": "execute_result"
    }
   ],
   "source": [
    "pred = np.ones((gatrain.shape[0],n_classes))/n_classes\n",
    "log_loss(y, pred)"
   ]
  },
  {
   "cell_type": "markdown",
   "metadata": {},
   "source": [
    "### KFold"
   ]
  },
  {
   "cell_type": "code",
   "execution_count": 117,
   "metadata": {
    "collapsed": false
   },
   "outputs": [
    {
     "name": "stdout",
     "output_type": "stream",
     "text": [
      "2.42805122275\n"
     ]
    }
   ],
   "source": [
    "kf = KFold(gatrain.shape[0], n_folds=10, shuffle=True, random_state=0)\n",
    "pred = np.zeros((gatrain.shape[0],n_classes))\n",
    "for itrain, itest in kf:\n",
    "    train = gatrain.iloc[itrain,:]\n",
    "    test = gatrain.iloc[itest,:]\n",
    "    ytrain, ytest = y[itrain], y[itest]\n",
    "    prob = train.groupby('group').size()/train.shape[0]\n",
    "    pred[itest,:] = prob.values\n",
    "print(log_loss(y, pred))"
   ]
  },
  {
   "cell_type": "code",
   "execution_count": 134,
   "metadata": {
    "collapsed": false
   },
   "outputs": [
    {
     "name": "stdout",
     "output_type": "stream",
     "text": [
      "187245 rows\n",
      "unique values:\n",
      "device_id: 186716\n",
      "phone_brand: 131\n",
      "device_model: 1599\n"
     ]
    }
   ],
   "source": [
    "phone = pd.read_csv('data/phone_brand_device_model.csv',encoding='utf-8')\n",
    "phone.head(3)\n",
    "print('{} rows'.format(phone.shape[0]))\n",
    "print(\"unique values:\")\n",
    "for c in phone.columns:\n",
    "    print('{}: {}'.format(c, phone[c].nunique()))"
   ]
  },
  {
   "cell_type": "code",
   "execution_count": 137,
   "metadata": {
    "collapsed": false
   },
   "outputs": [
    {
     "data": {
      "text/plain": [
       "device_model\n",
       "1100           1\n",
       "T820           1\n",
       "T80            1\n",
       "T780+          1\n",
       "T730D          1\n",
       "T730           1\n",
       "T708           1\n",
       "T703           1\n",
       "T701           1\n",
       "T7             1\n",
       "T85+           1\n",
       "T621           1\n",
       "T619           1\n",
       "T6             1\n",
       "T55            1\n",
       "T528w          1\n",
       "T528t          1\n",
       "T528d          1\n",
       "T50            1\n",
       "T35            1\n",
       "T329t          1\n",
       "T619+          1\n",
       "T329d          1\n",
       "T860           1\n",
       "T87+           1\n",
       "TAB A10-80     1\n",
       "TAB 2 A7-30    1\n",
       "T967           1\n",
       "T9608          1\n",
       "T9600          1\n",
       "              ..\n",
       "M8             2\n",
       "A1             2\n",
       "T60            2\n",
       "U11            2\n",
       "7060           2\n",
       "X              2\n",
       "E5             2\n",
       "P1             2\n",
       "E3             2\n",
       "U2             2\n",
       "K1             2\n",
       "L810           2\n",
       "V70            2\n",
       "P9             2\n",
       "Q7             2\n",
       "L6             2\n",
       "P8             2\n",
       "D500           2\n",
       "L7             2\n",
       "S7             3\n",
       "M3             3\n",
       "T5             3\n",
       "S3             3\n",
       "M2             3\n",
       "X5             3\n",
       "N1             3\n",
       "R1             3\n",
       "X6             4\n",
       "T9             4\n",
       "S6             4\n",
       "Name: phone_brand, dtype: int64"
      ]
     },
     "execution_count": 137,
     "metadata": {},
     "output_type": "execute_result"
    }
   ],
   "source": [
    "c.sort_values()"
   ]
  },
  {
   "cell_type": "code",
   "execution_count": 142,
   "metadata": {
    "collapsed": false
   },
   "outputs": [],
   "source": [
    "\n",
    "lebrand = LabelEncoder().fit(phone.phone_brand)\n",
    "phone['brand'] = lebrand.transform(phone.phone_brand)\n",
    "m = phone.phone_brand.str.cat(phone.device_model)\n",
    "lemodel = LabelEncoder().fit(m)\n",
    "phone['model'] = lemodel.transform(m)"
   ]
  },
  {
   "cell_type": "code",
   "execution_count": 143,
   "metadata": {
    "collapsed": false
   },
   "outputs": [
    {
     "data": {
      "text/html": [
       "<div>\n",
       "<table border=\"1\" class=\"dataframe\">\n",
       "  <thead>\n",
       "    <tr style=\"text-align: right;\">\n",
       "      <th></th>\n",
       "      <th>device_id</th>\n",
       "      <th>phone_brand</th>\n",
       "      <th>device_model</th>\n",
       "      <th>brand</th>\n",
       "      <th>model</th>\n",
       "    </tr>\n",
       "  </thead>\n",
       "  <tbody>\n",
       "    <tr>\n",
       "      <th>0</th>\n",
       "      <td>-8890648629457979026</td>\n",
       "      <td>小米</td>\n",
       "      <td>红米</td>\n",
       "      <td>51</td>\n",
       "      <td>858</td>\n",
       "    </tr>\n",
       "    <tr>\n",
       "      <th>1</th>\n",
       "      <td>1277779817574759137</td>\n",
       "      <td>小米</td>\n",
       "      <td>MI 2</td>\n",
       "      <td>51</td>\n",
       "      <td>843</td>\n",
       "    </tr>\n",
       "    <tr>\n",
       "      <th>2</th>\n",
       "      <td>5137427614288105724</td>\n",
       "      <td>三星</td>\n",
       "      <td>Galaxy S4</td>\n",
       "      <td>15</td>\n",
       "      <td>371</td>\n",
       "    </tr>\n",
       "    <tr>\n",
       "      <th>3</th>\n",
       "      <td>3669464369358936369</td>\n",
       "      <td>SUGAR</td>\n",
       "      <td>时尚手机</td>\n",
       "      <td>9</td>\n",
       "      <td>166</td>\n",
       "    </tr>\n",
       "    <tr>\n",
       "      <th>4</th>\n",
       "      <td>-5019277647504317457</td>\n",
       "      <td>三星</td>\n",
       "      <td>Galaxy Note 2</td>\n",
       "      <td>15</td>\n",
       "      <td>347</td>\n",
       "    </tr>\n",
       "    <tr>\n",
       "      <th>5</th>\n",
       "      <td>3238009352149731868</td>\n",
       "      <td>华为</td>\n",
       "      <td>Mate</td>\n",
       "      <td>31</td>\n",
       "      <td>671</td>\n",
       "    </tr>\n",
       "    <tr>\n",
       "      <th>6</th>\n",
       "      <td>-3883532755183027260</td>\n",
       "      <td>小米</td>\n",
       "      <td>MI 2S</td>\n",
       "      <td>51</td>\n",
       "      <td>846</td>\n",
       "    </tr>\n",
       "    <tr>\n",
       "      <th>7</th>\n",
       "      <td>-2972199645857147708</td>\n",
       "      <td>华为</td>\n",
       "      <td>G610S</td>\n",
       "      <td>31</td>\n",
       "      <td>648</td>\n",
       "    </tr>\n",
       "    <tr>\n",
       "      <th>8</th>\n",
       "      <td>-5827952925479472594</td>\n",
       "      <td>小米</td>\n",
       "      <td>MI One Plus</td>\n",
       "      <td>51</td>\n",
       "      <td>852</td>\n",
       "    </tr>\n",
       "    <tr>\n",
       "      <th>9</th>\n",
       "      <td>-8262508968076336275</td>\n",
       "      <td>vivo</td>\n",
       "      <td>S7I</td>\n",
       "      <td>13</td>\n",
       "      <td>214</td>\n",
       "    </tr>\n",
       "    <tr>\n",
       "      <th>10</th>\n",
       "      <td>5840378295166286440</td>\n",
       "      <td>三星</td>\n",
       "      <td>Galaxy S3</td>\n",
       "      <td>15</td>\n",
       "      <td>368</td>\n",
       "    </tr>\n",
       "    <tr>\n",
       "      <th>11</th>\n",
       "      <td>-5776341595519925628</td>\n",
       "      <td>小米</td>\n",
       "      <td>MI 2A</td>\n",
       "      <td>51</td>\n",
       "      <td>844</td>\n",
       "    </tr>\n",
       "    <tr>\n",
       "      <th>12</th>\n",
       "      <td>3437705102632680210</td>\n",
       "      <td>三星</td>\n",
       "      <td>Galaxy S3</td>\n",
       "      <td>15</td>\n",
       "      <td>368</td>\n",
       "    </tr>\n",
       "    <tr>\n",
       "      <th>13</th>\n",
       "      <td>-3568334676360016285</td>\n",
       "      <td>三星</td>\n",
       "      <td>Galaxy S3</td>\n",
       "      <td>15</td>\n",
       "      <td>368</td>\n",
       "    </tr>\n",
       "    <tr>\n",
       "      <th>14</th>\n",
       "      <td>556978549708484782</td>\n",
       "      <td>小米</td>\n",
       "      <td>MI 2</td>\n",
       "      <td>51</td>\n",
       "      <td>843</td>\n",
       "    </tr>\n",
       "    <tr>\n",
       "      <th>15</th>\n",
       "      <td>5694497738268412307</td>\n",
       "      <td>小米</td>\n",
       "      <td>MI 3</td>\n",
       "      <td>51</td>\n",
       "      <td>847</td>\n",
       "    </tr>\n",
       "    <tr>\n",
       "      <th>16</th>\n",
       "      <td>6327116114284382479</td>\n",
       "      <td>华为</td>\n",
       "      <td>G520-0000</td>\n",
       "      <td>31</td>\n",
       "      <td>639</td>\n",
       "    </tr>\n",
       "    <tr>\n",
       "      <th>17</th>\n",
       "      <td>773248989809697210</td>\n",
       "      <td>vivo</td>\n",
       "      <td>X5Pro</td>\n",
       "      <td>13</td>\n",
       "      <td>232</td>\n",
       "    </tr>\n",
       "    <tr>\n",
       "      <th>18</th>\n",
       "      <td>-686020914357018824</td>\n",
       "      <td>小米</td>\n",
       "      <td>MI 2S</td>\n",
       "      <td>51</td>\n",
       "      <td>846</td>\n",
       "    </tr>\n",
       "    <tr>\n",
       "      <th>19</th>\n",
       "      <td>6936613487637228956</td>\n",
       "      <td>魅族</td>\n",
       "      <td>MX2</td>\n",
       "      <td>128</td>\n",
       "      <td>1651</td>\n",
       "    </tr>\n",
       "    <tr>\n",
       "      <th>20</th>\n",
       "      <td>-3875043166283300758</td>\n",
       "      <td>三星</td>\n",
       "      <td>Galaxy Note 2</td>\n",
       "      <td>15</td>\n",
       "      <td>347</td>\n",
       "    </tr>\n",
       "    <tr>\n",
       "      <th>21</th>\n",
       "      <td>-6964140211214884922</td>\n",
       "      <td>小米</td>\n",
       "      <td>MI 2S</td>\n",
       "      <td>51</td>\n",
       "      <td>846</td>\n",
       "    </tr>\n",
       "    <tr>\n",
       "      <th>22</th>\n",
       "      <td>-30236203766311351</td>\n",
       "      <td>小米</td>\n",
       "      <td>MI 2S</td>\n",
       "      <td>51</td>\n",
       "      <td>846</td>\n",
       "    </tr>\n",
       "    <tr>\n",
       "      <th>23</th>\n",
       "      <td>4887985552773989409</td>\n",
       "      <td>vivo</td>\n",
       "      <td>Xplay</td>\n",
       "      <td>13</td>\n",
       "      <td>241</td>\n",
       "    </tr>\n",
       "    <tr>\n",
       "      <th>24</th>\n",
       "      <td>7206202610070842107</td>\n",
       "      <td>三星</td>\n",
       "      <td>Galaxy Note 2</td>\n",
       "      <td>15</td>\n",
       "      <td>347</td>\n",
       "    </tr>\n",
       "    <tr>\n",
       "      <th>25</th>\n",
       "      <td>-39620037751344714</td>\n",
       "      <td>小米</td>\n",
       "      <td>MI 2S</td>\n",
       "      <td>51</td>\n",
       "      <td>846</td>\n",
       "    </tr>\n",
       "    <tr>\n",
       "      <th>26</th>\n",
       "      <td>7223189369472462826</td>\n",
       "      <td>酷派</td>\n",
       "      <td>7270</td>\n",
       "      <td>117</td>\n",
       "      <td>1458</td>\n",
       "    </tr>\n",
       "    <tr>\n",
       "      <th>27</th>\n",
       "      <td>-3998002640294516352</td>\n",
       "      <td>天语</td>\n",
       "      <td>Touch 3</td>\n",
       "      <td>44</td>\n",
       "      <td>812</td>\n",
       "    </tr>\n",
       "    <tr>\n",
       "      <th>28</th>\n",
       "      <td>2527845705328727233</td>\n",
       "      <td>OPPO</td>\n",
       "      <td>R2017</td>\n",
       "      <td>7</td>\n",
       "      <td>124</td>\n",
       "    </tr>\n",
       "    <tr>\n",
       "      <th>29</th>\n",
       "      <td>-3157952721100703520</td>\n",
       "      <td>三星</td>\n",
       "      <td>Galaxy Note 2</td>\n",
       "      <td>15</td>\n",
       "      <td>347</td>\n",
       "    </tr>\n",
       "    <tr>\n",
       "      <th>...</th>\n",
       "      <td>...</td>\n",
       "      <td>...</td>\n",
       "      <td>...</td>\n",
       "      <td>...</td>\n",
       "      <td>...</td>\n",
       "    </tr>\n",
       "    <tr>\n",
       "      <th>187215</th>\n",
       "      <td>5227968728585496675</td>\n",
       "      <td>OPPO</td>\n",
       "      <td>R813T</td>\n",
       "      <td>7</td>\n",
       "      <td>137</td>\n",
       "    </tr>\n",
       "    <tr>\n",
       "      <th>187216</th>\n",
       "      <td>7793779831192048252</td>\n",
       "      <td>OPPO</td>\n",
       "      <td>R1S</td>\n",
       "      <td>7</td>\n",
       "      <td>122</td>\n",
       "    </tr>\n",
       "    <tr>\n",
       "      <th>187217</th>\n",
       "      <td>-744475600656645305</td>\n",
       "      <td>三星</td>\n",
       "      <td>Galaxy S7 Edge</td>\n",
       "      <td>15</td>\n",
       "      <td>381</td>\n",
       "    </tr>\n",
       "    <tr>\n",
       "      <th>187218</th>\n",
       "      <td>3608110452636220010</td>\n",
       "      <td>努比亚</td>\n",
       "      <td>My 布拉格</td>\n",
       "      <td>30</td>\n",
       "      <td>596</td>\n",
       "    </tr>\n",
       "    <tr>\n",
       "      <th>187219</th>\n",
       "      <td>-8618225365386360981</td>\n",
       "      <td>LG</td>\n",
       "      <td>L22</td>\n",
       "      <td>3</td>\n",
       "      <td>77</td>\n",
       "    </tr>\n",
       "    <tr>\n",
       "      <th>187220</th>\n",
       "      <td>2275764314427946733</td>\n",
       "      <td>华为</td>\n",
       "      <td>Mate 8</td>\n",
       "      <td>31</td>\n",
       "      <td>675</td>\n",
       "    </tr>\n",
       "    <tr>\n",
       "      <th>187221</th>\n",
       "      <td>-2334418817028672523</td>\n",
       "      <td>OPPO</td>\n",
       "      <td>A53</td>\n",
       "      <td>7</td>\n",
       "      <td>111</td>\n",
       "    </tr>\n",
       "    <tr>\n",
       "      <th>187222</th>\n",
       "      <td>-4449937638303316446</td>\n",
       "      <td>华为</td>\n",
       "      <td>荣耀6 plus</td>\n",
       "      <td>31</td>\n",
       "      <td>737</td>\n",
       "    </tr>\n",
       "    <tr>\n",
       "      <th>187223</th>\n",
       "      <td>1565799471880375963</td>\n",
       "      <td>金立</td>\n",
       "      <td>GN151</td>\n",
       "      <td>120</td>\n",
       "      <td>1584</td>\n",
       "    </tr>\n",
       "    <tr>\n",
       "      <th>187224</th>\n",
       "      <td>7345944586031224659</td>\n",
       "      <td>华为</td>\n",
       "      <td>Ascend P8</td>\n",
       "      <td>31</td>\n",
       "      <td>622</td>\n",
       "    </tr>\n",
       "    <tr>\n",
       "      <th>187225</th>\n",
       "      <td>-8541422542047946093</td>\n",
       "      <td>OPPO</td>\n",
       "      <td>Find 5</td>\n",
       "      <td>7</td>\n",
       "      <td>114</td>\n",
       "    </tr>\n",
       "    <tr>\n",
       "      <th>187226</th>\n",
       "      <td>-4980799589632292473</td>\n",
       "      <td>酷派</td>\n",
       "      <td>5263S</td>\n",
       "      <td>117</td>\n",
       "      <td>1424</td>\n",
       "    </tr>\n",
       "    <tr>\n",
       "      <th>187227</th>\n",
       "      <td>-4982005935723339332</td>\n",
       "      <td>乐视</td>\n",
       "      <td>超级手机Max</td>\n",
       "      <td>21</td>\n",
       "      <td>560</td>\n",
       "    </tr>\n",
       "    <tr>\n",
       "      <th>187228</th>\n",
       "      <td>-2200024706981051998</td>\n",
       "      <td>小米</td>\n",
       "      <td>红米note</td>\n",
       "      <td>51</td>\n",
       "      <td>865</td>\n",
       "    </tr>\n",
       "    <tr>\n",
       "      <th>187229</th>\n",
       "      <td>4088225607463878385</td>\n",
       "      <td>三星</td>\n",
       "      <td>Galaxy Note 3</td>\n",
       "      <td>15</td>\n",
       "      <td>348</td>\n",
       "    </tr>\n",
       "    <tr>\n",
       "      <th>187230</th>\n",
       "      <td>4533938230389516114</td>\n",
       "      <td>联想</td>\n",
       "      <td>黄金斗士A8</td>\n",
       "      <td>101</td>\n",
       "      <td>1317</td>\n",
       "    </tr>\n",
       "    <tr>\n",
       "      <th>187231</th>\n",
       "      <td>2991768363764912164</td>\n",
       "      <td>三星</td>\n",
       "      <td>Galaxy S6 Edge+</td>\n",
       "      <td>15</td>\n",
       "      <td>379</td>\n",
       "    </tr>\n",
       "    <tr>\n",
       "      <th>187232</th>\n",
       "      <td>-8903406387941280700</td>\n",
       "      <td>OPPO</td>\n",
       "      <td>R9</td>\n",
       "      <td>7</td>\n",
       "      <td>153</td>\n",
       "    </tr>\n",
       "    <tr>\n",
       "      <th>187233</th>\n",
       "      <td>-6424608528529231693</td>\n",
       "      <td>小米</td>\n",
       "      <td>红米Note2</td>\n",
       "      <td>51</td>\n",
       "      <td>863</td>\n",
       "    </tr>\n",
       "    <tr>\n",
       "      <th>187234</th>\n",
       "      <td>-2998819981424937912</td>\n",
       "      <td>三星</td>\n",
       "      <td>Galaxy A8</td>\n",
       "      <td>15</td>\n",
       "      <td>301</td>\n",
       "    </tr>\n",
       "    <tr>\n",
       "      <th>187235</th>\n",
       "      <td>2397799423340611378</td>\n",
       "      <td>三星</td>\n",
       "      <td>Galaxy S5</td>\n",
       "      <td>15</td>\n",
       "      <td>375</td>\n",
       "    </tr>\n",
       "    <tr>\n",
       "      <th>187236</th>\n",
       "      <td>2639235301715597247</td>\n",
       "      <td>OPPO</td>\n",
       "      <td>A33</td>\n",
       "      <td>7</td>\n",
       "      <td>108</td>\n",
       "    </tr>\n",
       "    <tr>\n",
       "      <th>187237</th>\n",
       "      <td>3884484562161888663</td>\n",
       "      <td>OPPO</td>\n",
       "      <td>1100</td>\n",
       "      <td>7</td>\n",
       "      <td>98</td>\n",
       "    </tr>\n",
       "    <tr>\n",
       "      <th>187238</th>\n",
       "      <td>-6564340457392363163</td>\n",
       "      <td>中兴</td>\n",
       "      <td>Axon天机</td>\n",
       "      <td>18</td>\n",
       "      <td>455</td>\n",
       "    </tr>\n",
       "    <tr>\n",
       "      <th>187239</th>\n",
       "      <td>3210973037848940984</td>\n",
       "      <td>小米</td>\n",
       "      <td>MI 2S</td>\n",
       "      <td>51</td>\n",
       "      <td>846</td>\n",
       "    </tr>\n",
       "    <tr>\n",
       "      <th>187240</th>\n",
       "      <td>7979541072208733273</td>\n",
       "      <td>小米</td>\n",
       "      <td>MI 4</td>\n",
       "      <td>51</td>\n",
       "      <td>848</td>\n",
       "    </tr>\n",
       "    <tr>\n",
       "      <th>187241</th>\n",
       "      <td>-187404680852357705</td>\n",
       "      <td>小米</td>\n",
       "      <td>红米2</td>\n",
       "      <td>51</td>\n",
       "      <td>860</td>\n",
       "    </tr>\n",
       "    <tr>\n",
       "      <th>187242</th>\n",
       "      <td>-2718274279595622821</td>\n",
       "      <td>小米</td>\n",
       "      <td>MI 3</td>\n",
       "      <td>51</td>\n",
       "      <td>847</td>\n",
       "    </tr>\n",
       "    <tr>\n",
       "      <th>187243</th>\n",
       "      <td>3098391762071677791</td>\n",
       "      <td>vivo</td>\n",
       "      <td>X1</td>\n",
       "      <td>13</td>\n",
       "      <td>220</td>\n",
       "    </tr>\n",
       "    <tr>\n",
       "      <th>187244</th>\n",
       "      <td>7540390258631417003</td>\n",
       "      <td>vivo</td>\n",
       "      <td>Y22L</td>\n",
       "      <td>13</td>\n",
       "      <td>261</td>\n",
       "    </tr>\n",
       "  </tbody>\n",
       "</table>\n",
       "<p>187245 rows × 5 columns</p>\n",
       "</div>"
      ],
      "text/plain": [
       "                  device_id phone_brand     device_model  brand  model\n",
       "0      -8890648629457979026          小米               红米     51    858\n",
       "1       1277779817574759137          小米             MI 2     51    843\n",
       "2       5137427614288105724          三星        Galaxy S4     15    371\n",
       "3       3669464369358936369       SUGAR             时尚手机      9    166\n",
       "4      -5019277647504317457          三星    Galaxy Note 2     15    347\n",
       "5       3238009352149731868          华为             Mate     31    671\n",
       "6      -3883532755183027260          小米            MI 2S     51    846\n",
       "7      -2972199645857147708          华为            G610S     31    648\n",
       "8      -5827952925479472594          小米      MI One Plus     51    852\n",
       "9      -8262508968076336275        vivo              S7I     13    214\n",
       "10      5840378295166286440          三星        Galaxy S3     15    368\n",
       "11     -5776341595519925628          小米            MI 2A     51    844\n",
       "12      3437705102632680210          三星        Galaxy S3     15    368\n",
       "13     -3568334676360016285          三星        Galaxy S3     15    368\n",
       "14       556978549708484782          小米             MI 2     51    843\n",
       "15      5694497738268412307          小米             MI 3     51    847\n",
       "16      6327116114284382479          华为        G520-0000     31    639\n",
       "17       773248989809697210        vivo            X5Pro     13    232\n",
       "18      -686020914357018824          小米            MI 2S     51    846\n",
       "19      6936613487637228956          魅族              MX2    128   1651\n",
       "20     -3875043166283300758          三星    Galaxy Note 2     15    347\n",
       "21     -6964140211214884922          小米            MI 2S     51    846\n",
       "22       -30236203766311351          小米            MI 2S     51    846\n",
       "23      4887985552773989409        vivo            Xplay     13    241\n",
       "24      7206202610070842107          三星    Galaxy Note 2     15    347\n",
       "25       -39620037751344714          小米            MI 2S     51    846\n",
       "26      7223189369472462826          酷派             7270    117   1458\n",
       "27     -3998002640294516352          天语          Touch 3     44    812\n",
       "28      2527845705328727233        OPPO            R2017      7    124\n",
       "29     -3157952721100703520          三星    Galaxy Note 2     15    347\n",
       "...                     ...         ...              ...    ...    ...\n",
       "187215  5227968728585496675        OPPO            R813T      7    137\n",
       "187216  7793779831192048252        OPPO              R1S      7    122\n",
       "187217  -744475600656645305          三星   Galaxy S7 Edge     15    381\n",
       "187218  3608110452636220010         努比亚           My 布拉格     30    596\n",
       "187219 -8618225365386360981          LG              L22      3     77\n",
       "187220  2275764314427946733          华为           Mate 8     31    675\n",
       "187221 -2334418817028672523        OPPO              A53      7    111\n",
       "187222 -4449937638303316446          华为         荣耀6 plus     31    737\n",
       "187223  1565799471880375963          金立            GN151    120   1584\n",
       "187224  7345944586031224659          华为        Ascend P8     31    622\n",
       "187225 -8541422542047946093        OPPO           Find 5      7    114\n",
       "187226 -4980799589632292473          酷派            5263S    117   1424\n",
       "187227 -4982005935723339332          乐视          超级手机Max     21    560\n",
       "187228 -2200024706981051998          小米           红米note     51    865\n",
       "187229  4088225607463878385          三星    Galaxy Note 3     15    348\n",
       "187230  4533938230389516114          联想           黄金斗士A8    101   1317\n",
       "187231  2991768363764912164          三星  Galaxy S6 Edge+     15    379\n",
       "187232 -8903406387941280700        OPPO               R9      7    153\n",
       "187233 -6424608528529231693          小米          红米Note2     51    863\n",
       "187234 -2998819981424937912          三星        Galaxy A8     15    301\n",
       "187235  2397799423340611378          三星        Galaxy S5     15    375\n",
       "187236  2639235301715597247        OPPO              A33      7    108\n",
       "187237  3884484562161888663        OPPO             1100      7     98\n",
       "187238 -6564340457392363163          中兴           Axon天机     18    455\n",
       "187239  3210973037848940984          小米            MI 2S     51    846\n",
       "187240  7979541072208733273          小米             MI 4     51    848\n",
       "187241  -187404680852357705          小米              红米2     51    860\n",
       "187242 -2718274279595622821          小米             MI 3     51    847\n",
       "187243  3098391762071677791        vivo               X1     13    220\n",
       "187244  7540390258631417003        vivo             Y22L     13    261\n",
       "\n",
       "[187245 rows x 5 columns]"
      ]
     },
     "execution_count": 143,
     "metadata": {},
     "output_type": "execute_result"
    }
   ],
   "source": [
    "phone"
   ]
  },
  {
   "cell_type": "code",
   "execution_count": 1,
   "metadata": {
    "collapsed": false
   },
   "outputs": [
    {
     "name": "stderr",
     "output_type": "stream",
     "text": [
      "/Users/yowtzu/anaconda/lib/python3.5/site-packages/pandas/computation/__init__.py:19: UserWarning: The installed version of numexpr 2.4.4 is not supported in pandas and will be not be used\n",
      "\n",
      "  UserWarning)\n",
      "/Users/yowtzu/anaconda/lib/python3.5/site-packages/sklearn/utils/fixes.py:64: DeprecationWarning: inspect.getargspec() is deprecated, use inspect.signature() instead\n",
      "  if 'order' in inspect.getargspec(np.copy)[0]:\n"
     ]
    }
   ],
   "source": [
    "import datetime\n",
    "import pandas as pd\n",
    "import numpy as np\n",
    "from sklearn.cross_validation import train_test_split\n",
    "import xgboost as xgb\n",
    "import random\n",
    "import zipfile\n",
    "import time\n",
    "import shutil\n",
    "from sklearn.metrics import log_loss\n",
    "from pygeocoder import Geocoder, GeocoderError\n",
    "import pickle"
   ]
  },
  {
   "cell_type": "code",
   "execution_count": 2,
   "metadata": {
    "collapsed": true
   },
   "outputs": [],
   "source": [
    "events = pd.read_csv(\"data/events.csv\", dtype={'device_id': np.str})\n",
    "events = events.sort_values(['device_id','timestamp'])\n",
    "events['timestamp'] = pd.to_datetime(events.timestamp)"
   ]
  },
  {
   "cell_type": "markdown",
   "metadata": {},
   "source": [
    "### Create and save the latitude and longitude mapping"
   ]
  },
  {
   "cell_type": "code",
   "execution_count": null,
   "metadata": {
    "collapsed": true
   },
   "outputs": [],
   "source": [
    "#coord_to_loc_map = dict()"
   ]
  },
  {
   "cell_type": "code",
   "execution_count": null,
   "metadata": {
    "collapsed": true
   },
   "outputs": [],
   "source": [
    "#for row in events.itertuples():\n",
    "#    key = (row.latitude, row.longitude)\n",
    "#    if key not in coord_to_loc_map.keys():\n",
    "#        try:\n",
    "#            print(key)\n",
    "#            coord_to_loc_map[key] = Geocoder.reverse_geocode(row.latitude, row.longitude)\n",
    "#            time.sleep(1)\n",
    "#        except GeocoderError as e:\n",
    "#            coord_to_loc_map[key] = None"
   ]
  },
  {
   "cell_type": "code",
   "execution_count": null,
   "metadata": {
    "collapsed": false
   },
   "outputs": [],
   "source": [
    "#coord_to_loc_data_map = {k:v.data for k,v in coord_to_loc_map.items() if v}\n",
    "#coord_to_loc_address_map = {k:v.formatted_address for k,v in coord_to_loc_map.items() if v}\n",
    "\n",
    "#with open('data/coord_to_loc_data_map.pickle', 'wb') as handle:\n",
    "#    pickle.dump(coord_to_loc_data_map, handle)\n",
    "    \n",
    "#with open('data/coord_to_loc_address_map.pickle', 'wb') as handle:\n",
    "#    pickle.dump(coord_to_loc_address_map, handle)"
   ]
  },
  {
   "cell_type": "code",
   "execution_count": 3,
   "metadata": {
    "collapsed": false
   },
   "outputs": [],
   "source": [
    "with open('data/coord_to_loc_address_map.pickle', 'rb') as handle:\n",
    "    coord_to_loc_address_map = pickle.load(handle)"
   ]
  },
  {
   "cell_type": "code",
   "execution_count": 4,
   "metadata": {
    "collapsed": false
   },
   "outputs": [],
   "source": [
    "res = list()\n",
    "for k,v in coord_to_loc_address_map.items():\n",
    "    if v:\n",
    "        country = None\n",
    "        route = None\n",
    "        qu = None\n",
    "        shi = None\n",
    "        sheng = None\n",
    "        location = list(v.upper().split(', '))\n",
    "        if(len(location) <= 3):\n",
    "            country = \"OTHER\"\n",
    "        else:\n",
    "            for item in location[::-1]:\n",
    "                if item=='CHINA':\n",
    "                    country = item\n",
    "                if item.endswith('DAO') or item.endswith('LU') or item.endswith('JIE') or item.endswith('ROAD'):\n",
    "                    route = item\n",
    "                elif item.endswith('QU') or item.endswith('XIAN'):\n",
    "                    qu = item\n",
    "                elif item.endswith('SHI'):\n",
    "                    shi = item\n",
    "                elif item.endswith('SHENG'):\n",
    "                    sheng = item\n",
    "        item = np.array([k[0], k[1], route, qu, shi, sheng, country])\n",
    "        res.append(item)\n",
    "address = pd.DataFrame(res, columns=['latitude', 'longitude', 'route', 'qu', 'shi', 'sheng', 'country'])\n",
    "address.latitude = address.latitude.astype('float')\n",
    "address.longitude = address.longitude.astype('float')"
   ]
  },
  {
   "cell_type": "code",
   "execution_count": 5,
   "metadata": {
    "collapsed": false
   },
   "outputs": [
    {
     "data": {
      "text/plain": [
       "2381.0141034018447"
      ]
     },
     "execution_count": 5,
     "metadata": {},
     "output_type": "execute_result"
    }
   ],
   "source": [
    "import math\n",
    "from collections import namedtuple\n",
    "\n",
    "def haversine_distance(origin, destination):\n",
    "      \"\"\" Haversine formula to calculate the distance between two lat/long points on a sphere \"\"\"\n",
    "\n",
    "      radius = 6371 # FAA approved globe radius in km\n",
    "\n",
    "      dlat = math.radians(destination[0]-origin[0])\n",
    "      dlon = math.radians(destination[1]-origin[1])\n",
    "      a = math.sin(dlat/2) * math.sin(dlat/2) + math.cos(math.radians(origin[0])) \\\n",
    "          * math.cos(math.radians(destination[0])) * math.sin(dlon/2) * math.sin(dlon/2)\n",
    "      c = 2 * math.atan2(math.sqrt(a), math.sqrt(1-a))\n",
    "      d = radius * c\n",
    "\n",
    "      # Return distance in km\n",
    "      return d\n",
    "\n",
    "LatLng = namedtuple('LatLng', 'lat, lng')\n",
    "  \n",
    "origin = (51.3, -0.1275) # London\n",
    "destination = (37.966667, 23.716667) # Athens\n",
    "\n",
    "haversine_distance(origin, destination)"
   ]
  },
  {
   "cell_type": "code",
   "execution_count": 6,
   "metadata": {
    "collapsed": false
   },
   "outputs": [],
   "source": [
    "events = events.sort_values(['device_id','timestamp'])\n",
    "\n",
    "events.ix[events.longitude==0, 'longitude']=np.nan\n",
    "events.ix[events.latitude==0, 'latitude']=np.nan\n",
    "events['longitude'] = events.groupby(['device_id'])['longitude'].fillna(method='ffill').fillna(method='backfill')\n",
    "events['latitude'] = events.groupby(['device_id'])['latitude'].fillna(method='ffill').fillna(method='backfill')\n",
    "\n",
    "events[\"min_latitude\"] = events.groupby('device_id')[\"latitude\"].transform(min)\n",
    "events[\"max_latitude\"] = events.groupby('device_id')[\"latitude\"].transform(max)\n",
    "events[\"min_longitude\"] = events.groupby('device_id')[\"longitude\"].transform(min)\n",
    "events[\"max_longitude\"] = events.groupby('device_id')[\"longitude\"].transform(max)\n",
    "\n",
    "events['longitude'] = events.groupby(['device_id'])['longitude'].transform(np.median)\n",
    "# should use mode and find out the distance travels instead\n",
    "events['latitude'] = events.groupby(['device_id'])['latitude'].transform(np.median)"
   ]
  },
  {
   "cell_type": "code",
   "execution_count": 7,
   "metadata": {
    "collapsed": false
   },
   "outputs": [],
   "source": [
    "unique_location = events[[\"min_latitude\", \"max_latitude\", \"min_longitude\", \"max_longitude\"]].drop_duplicates()\n",
    "unique_location[\"distance\"] = unique_location.apply(\n",
    "    lambda row: haversine_distance((row.min_latitude, row.min_longitude), (row.max_latitude, row.max_longitude)), axis=1)"
   ]
  },
  {
   "cell_type": "code",
   "execution_count": 8,
   "metadata": {
    "collapsed": true
   },
   "outputs": [],
   "source": [
    "events[\"hour\"] = pd.DatetimeIndex(events.timestamp).hour\n",
    "events[\"day_or_night\"] = 'day'\n",
    "events.ix[events.hour >=23 | (events.hour <= 7) , \"day_or_night\"] = 'night'\n",
    "events.drop('hour', axis=1, inplace=True)\n",
    "\n",
    "tmp = pd.DataFrame(events.groupby('device_id').apply(lambda x: np.log(1+len(x))).rename('counts'))\n",
    "events = events.join(tmp, on=['device_id'])\n",
    "\n",
    "tmp = pd.DataFrame(events.ix[events.day_or_night=='day',:].groupby('device_id').apply(lambda x: np.log(1+len(x))).rename('day_counts'))\n",
    "events = events.join(tmp, on=['device_id'])\n",
    "\n",
    "tmp = pd.DataFrame(events.ix[events.day_or_night=='night',:].groupby('device_id').apply(lambda x: np.log(1+len(x))).rename('night_counts'))\n",
    "events = events.join(tmp, on=['device_id'])\n",
    "events.drop(['day_or_night', 'timestamp'], axis=1, inplace=True)\n",
    "events = events.drop_duplicates()"
   ]
  },
  {
   "cell_type": "code",
   "execution_count": 9,
   "metadata": {
    "collapsed": true
   },
   "outputs": [],
   "source": [
    "events[\"day_counts\"] = events[\"day_counts\"].fillna(np.log(1))\n",
    "events[\"night_counts\"] = events[\"night_counts\"].fillna(np.log(1))"
   ]
  },
  {
   "cell_type": "code",
   "execution_count": 10,
   "metadata": {
    "collapsed": false
   },
   "outputs": [],
   "source": [
    "events = events.merge(unique_location, how='left')"
   ]
  },
  {
   "cell_type": "code",
   "execution_count": 11,
   "metadata": {
    "collapsed": true
   },
   "outputs": [],
   "source": [
    "events = events.merge(address, how='left')"
   ]
  },
  {
   "cell_type": "code",
   "execution_count": 12,
   "metadata": {
    "collapsed": true
   },
   "outputs": [],
   "source": [
    "random.seed(2016)\n",
    "\n",
    "def run_xgb(train, test, features, target, random_state=0):\n",
    "    eta = 0.05\n",
    "    max_depth = 7\n",
    "    subsample = 0.7\n",
    "    colsample_bytree = 0.7\n",
    "    start_time = time.time()\n",
    "\n",
    "    print('XGBoost params. ETA: {}, MAX_DEPTH: {}, SUBSAMPLE: {}, COLSAMPLE_BY_TREE: {}'.format(eta, max_depth, subsample, colsample_bytree))\n",
    "    params = {\n",
    "        \"objective\": \"multi:softprob\",\n",
    "        \"num_class\": 12,\n",
    "        \"booster\" : \"gbtree\",\n",
    "        \"eval_metric\": \"mlogloss\",\n",
    "        \"eta\": eta,\n",
    "        \"max_depth\": max_depth,\n",
    "        \"subsample\": subsample,\n",
    "        \"colsample_bytree\": colsample_bytree,\n",
    "        \"silent\": 1,\n",
    "        \"seed\": random_state,\n",
    "    }\n",
    "    num_boost_round = 500\n",
    "    early_stopping_rounds = 50\n",
    "    test_size = 0.3\n",
    "\n",
    "    X_train, X_valid = train_test_split(train, test_size=test_size, random_state=random_state)\n",
    "    print('Length train:', len(X_train.index))\n",
    "    print('Length valid:', len(X_valid.index))\n",
    "    y_train = X_train[target]\n",
    "    y_valid = X_valid[target]\n",
    "    dtrain = xgb.DMatrix(X_train[features], y_train)\n",
    "    dvalid = xgb.DMatrix(X_valid[features], y_valid)\n",
    "\n",
    "    watchlist = [(dtrain, 'train'), (dvalid, 'eval')]\n",
    "    gbm = xgb.train(params, dtrain, num_boost_round, evals=watchlist, early_stopping_rounds=early_stopping_rounds, verbose_eval=True)\n",
    "\n",
    "    print(\"Validating...\")\n",
    "    check = gbm.predict(xgb.DMatrix(X_valid[features]), ntree_limit=gbm.best_iteration)\n",
    "    score = log_loss(y_valid.tolist(), check)\n",
    "\n",
    "    print(\"Predict test set...\")\n",
    "    test_prediction = gbm.predict(xgb.DMatrix(test[features]), ntree_limit=gbm.best_iteration)\n",
    "\n",
    "    print('Training time: {} minutes'.format(round((time.time() - start_time)/60, 2)))\n",
    "    return test_prediction.tolist(), score\n",
    "\n",
    "\n",
    "def create_submission(score, test, prediction):\n",
    "    # Make Submission\n",
    "    now = datetime.datetime.now()\n",
    "    sub_file = 'submission_' + str(score) + '_' + str(now.strftime(\"%Y-%m-%d-%H-%M\")) + '.csv'\n",
    "    print('Writing submission: ', sub_file)\n",
    "    f = open(sub_file, 'w')\n",
    "    f.write('device_id,F23-,F24-26,F27-28,F29-32,F33-42,F43+,M22-,M23-26,M27-28,M29-31,M32-38,M39+\\n')\n",
    "    total = 0\n",
    "    test_val = test['device_id'].values\n",
    "    for i in range(len(test_val)):\n",
    "        str1 = str(test_val[i])\n",
    "        for j in range(12):\n",
    "            str1 += ',' + str(prediction[i][j])\n",
    "        str1 += '\\n'\n",
    "        total += 1\n",
    "        f.write(str1)\n",
    "    f.close()\n",
    "\n",
    "\n",
    "def map_column(table, f):\n",
    "    labels = sorted(table[f].unique())\n",
    "    mappings = dict()\n",
    "    for i in range(len(labels)):\n",
    "        mappings[labels[i]] = i\n",
    "    table = table.replace({f: mappings})\n",
    "    return table\n",
    "\n",
    "\n",
    "def read_train_test():\n",
    "    # Events\n",
    "    print('Read events...')\n",
    "    events = pd.read_csv(\"input/events.csv\", dtype={'device_id': np.str})\n",
    "    events['counts'] = events.groupby(['device_id'])['event_id'].transform('count')\n",
    "    events_small = events[['device_id', 'counts']].drop_duplicates('device_id', keep='first')\n",
    "\n",
    "    # Phone brand\n",
    "    print('Read brands...')\n",
    "    pbd = pd.read_csv(\"input/phone_brand_device_model.csv\", dtype={'device_id': np.str})\n",
    "    pbd.drop_duplicates('device_id', keep='first', inplace=True)\n",
    "    pbd = map_column(pbd, 'phone_brand')\n",
    "    pbd = map_column(pbd, 'device_model')\n",
    "\n",
    "    # Train\n",
    "    print('Read train...')\n",
    "    train = pd.read_csv(\"input/gender_age_train.csv\", dtype={'device_id': np.str})\n",
    "    train = map_column(train, 'group')\n",
    "    train = train.drop(['age'], axis=1)\n",
    "    train = train.drop(['gender'], axis=1)\n",
    "    train = pd.merge(train, pbd, how='left', on='device_id', left_index=True)\n",
    "    train = pd.merge(train, events_small, how='left', on='device_id', left_index=True)\n",
    "    train.fillna(-1, inplace=True)\n",
    "\n",
    "    # Test\n",
    "    print('Read test...')\n",
    "    test = pd.read_csv(\"input/gender_age_test.csv\", dtype={'device_id': np.str})\n",
    "    test = pd.merge(test, pbd, how='left', on='device_id', left_index=True)\n",
    "    test = pd.merge(test, events_small, how='left', on='device_id', left_index=True)\n",
    "    test.fillna(-1, inplace=True)\n",
    "\n",
    "    # Features\n",
    "    features = list(test.columns.values)\n",
    "    features.remove('device_id')\n",
    "\n",
    "    return train, test, features\n",
    "\n"
   ]
  },
  {
   "cell_type": "code",
   "execution_count": 13,
   "metadata": {
    "collapsed": false
   },
   "outputs": [],
   "source": [
    "#train, test, features = read_train_test()\n",
    "#print('Length of train: ', len(train))\n",
    "#print('Length of test: ', len(test))\n",
    "#print('Features [{}]: {}'.format(len(features), sorted(features)))"
   ]
  },
  {
   "cell_type": "code",
   "execution_count": 14,
   "metadata": {
    "collapsed": false
   },
   "outputs": [],
   "source": [
    "app = pd.read_csv(\"data/app_events.csv\", dtype={'app_id': np.str}).drop_duplicates()\n",
    "app_labels = pd.read_csv('data/app_labels.csv',  dtype={'app_id': np.str}).drop_duplicates()\n",
    "labels_categories = pd.read_csv('data/label_categories.csv').drop_duplicates()\n",
    "app_labels = pd.merge(app_labels, labels_categories, how='left', on='label_id')\n",
    "app = pd.merge(app, app_labels, how='left', on='app_id')\n",
    "app.drop(['is_installed', 'is_active', 'label_id'], axis=1, inplace=True)"
   ]
  },
  {
   "cell_type": "code",
   "execution_count": null,
   "metadata": {
    "collapsed": false
   },
   "outputs": [],
   "source": [
    "events = pd.merge(events, app, how='left')"
   ]
  },
  {
   "cell_type": "code",
   "execution_count": null,
   "metadata": {
    "collapsed": true
   },
   "outputs": [],
   "source": [
    "events['app_count'] = events.groupby('device_id')['app_id'].transform('count')\n",
    "events['app_category_count'] = events.groupby('device_id')['category'].transform('count')"
   ]
  },
  {
   "cell_type": "code",
   "execution_count": null,
   "metadata": {
    "collapsed": false
   },
   "outputs": [],
   "source": [
    "events_small = events.drop(['event_id', 'app_id', 'category'], axis=1).drop_duplicates()"
   ]
  },
  {
   "cell_type": "code",
   "execution_count": null,
   "metadata": {
    "collapsed": false
   },
   "outputs": [],
   "source": [
    "events_small[\"country\"] = events_small.apply(lambda x: 0 if x[\"country\"]=='China' else 1, axis=1)"
   ]
  },
  {
   "cell_type": "code",
   "execution_count": null,
   "metadata": {
    "collapsed": false
   },
   "outputs": [],
   "source": [
    "events_small.ix[pd.isnull(events_small.shi),\"shi\"] = 'Unknown'\n",
    "events_small.ix[pd.isnull(events_small.sheng), 'sheng'] = 'Unknown'\n",
    "events_small.ix[pd.isnull(events_small.qu), 'qu'] = 'Unknown'\n",
    "events_small.ix[pd.isnull(events_small.route), 'route'] = 'Unknown'"
   ]
  },
  {
   "cell_type": "code",
   "execution_count": null,
   "metadata": {
    "collapsed": false
   },
   "outputs": [],
   "source": [
    "events_small.shi = events_small.shi.astype('str')\n",
    "events_small.sheng = events_small.sheng.astype('str')\n",
    "events_small.qu = events_small.qu.astype('str')\n",
    "events_small.route = events_small.route.astype('str')"
   ]
  },
  {
   "cell_type": "code",
   "execution_count": null,
   "metadata": {
    "collapsed": false
   },
   "outputs": [],
   "source": [
    "events_small = map_column(events_small, 'shi')\n",
    "events_small = map_column(events_small, 'sheng')\n",
    "events_small = map_column(events_small, 'qu')\n",
    "events_small = map_column(events_small, 'route')"
   ]
  },
  {
   "cell_type": "code",
   "execution_count": null,
   "metadata": {
    "collapsed": true
   },
   "outputs": [],
   "source": [
    "#events_small.drop(['min_latitude', 'max_latitude', 'min_longitude', 'max_longitude'], axis=1, inplace=True)"
   ]
  },
  {
   "cell_type": "code",
   "execution_count": null,
   "metadata": {
    "collapsed": false
   },
   "outputs": [],
   "source": [
    "# Phone brand\n",
    "print('Read brands...')\n",
    "pbd = pd.read_csv(\"data/phone_brand_device_model.csv\", dtype={'device_id': np.str})\n",
    "pbd.drop_duplicates('device_id', keep='first', inplace=True)\n",
    "pbd = map_column(pbd, 'phone_brand')\n",
    "pbd = map_column(pbd, 'device_model')"
   ]
  },
  {
   "cell_type": "code",
   "execution_count": null,
   "metadata": {
    "collapsed": false
   },
   "outputs": [],
   "source": [
    "# Train\n",
    "\n",
    "print('Read train...')\n",
    "train = pd.read_csv(\"data/gender_age_train.csv\", dtype={'device_id': np.str})\n",
    "train = map_column(train, 'group')\n",
    "train = train.drop(['age'], axis=1)\n",
    "train = train.drop(['gender'], axis=1)\n",
    "train = pd.merge(train, pbd, how='left', on='device_id', left_index=True)\n",
    "train = pd.merge(train, events_small, how='left', on='device_id', left_index=True)\n"
   ]
  },
  {
   "cell_type": "code",
   "execution_count": null,
   "metadata": {
    "collapsed": false
   },
   "outputs": [],
   "source": [
    "# Test\n",
    "print('Read test...')\n",
    "test = pd.read_csv(\"data/gender_age_test.csv\", dtype={'device_id': np.str})\n",
    "test = pd.merge(test, pbd, how='left', on='device_id', left_index=True)\n",
    "test = pd.merge(test, events_small, how='left', on='device_id', left_index=True)"
   ]
  },
  {
   "cell_type": "code",
   "execution_count": null,
   "metadata": {
    "collapsed": false
   },
   "outputs": [],
   "source": [
    "# Features\n",
    "features = list(test.columns.values)\n",
    "features.remove('device_id')"
   ]
  },
  {
   "cell_type": "code",
   "execution_count": null,
   "metadata": {
    "collapsed": false
   },
   "outputs": [],
   "source": [
    "test_prediction, score = run_xgb(train, test, features, 'group')\n",
    "print(\"LS: {}\".format(round(score, 5)))"
   ]
  },
  {
   "cell_type": "code",
   "execution_count": null,
   "metadata": {
    "collapsed": false
   },
   "outputs": [],
   "source": [
    "create_submission(score, test, test_prediction)"
   ]
  }
 ],
 "metadata": {
  "kernelspec": {
   "display_name": "Python 3",
   "language": "python",
   "name": "python3"
  },
  "language_info": {
   "codemirror_mode": {
    "name": "ipython",
    "version": 3
   },
   "file_extension": ".py",
   "mimetype": "text/x-python",
   "name": "python",
   "nbconvert_exporter": "python",
   "pygments_lexer": "ipython3",
   "version": "3.5.2"
  }
 },
 "nbformat": 4,
 "nbformat_minor": 0
}
